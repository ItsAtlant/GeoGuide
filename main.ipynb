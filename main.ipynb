{
 "cells": [
  {
   "cell_type": "code",
   "execution_count": 107,
   "outputs": [],
   "source": [
    "from geopy.geocoders import Photon"
   ],
   "metadata": {
    "collapsed": false,
    "ExecuteTime": {
     "end_time": "2024-04-16T13:53:26.980968700Z",
     "start_time": "2024-04-16T13:53:26.949175800Z"
    }
   }
  },
  {
   "cell_type": "code",
   "execution_count": 108,
   "outputs": [],
   "source": [
    "lista_indirizzi = [\n",
    "    \"11 confalonieri, Desio, Italia\",\n",
    "    \"13 segantini, Cantu, Italia\",\n",
    "    \"Piazza San Marco, 30124 Venezia VE, Italia\",\n",
    "    \"Piazza del Colosseo, 00184 Roma RM, Italia\",\n",
    "    \"Piazza del Duomo, 20121 Milano MI, Italia\",\n",
    "    \"Via Condotti, 00187 Roma RM, Italia\",\n",
    "    \"Via Montenapoleone, 20121 Milano MI, Italia\",\n",
    "    \"Via della Conciliazione, 00120 Città del Vaticano\",\n",
    "    \"Corso Vittorio Emanuele II, 20122 Milano MI, Italia\",\n",
    "    \"Piazza San Carlo, 10121 Torino TO, Italia\"\n",
    "]"
   ],
   "metadata": {
    "collapsed": false,
    "ExecuteTime": {
     "end_time": "2024-04-16T13:53:27.286982300Z",
     "start_time": "2024-04-16T13:53:27.262789Z"
    }
   }
  },
  {
   "cell_type": "code",
   "execution_count": 109,
   "outputs": [],
   "source": [
    "def ordinaindirizzi(indirizzi:dict):\n",
    "    # Estraiamo il primo elemento e il suo valore\n",
    "    primo_elemento = list(indirizzi.keys())[0]\n",
    "    valore_primo = indirizzi[primo_elemento]\n",
    "\n",
    "    # Calcoliamo le differenze di valore rispetto al valore del primo elemento\n",
    "    differenze = {indirizzo: abs(valore - valore_primo) for indirizzo, valore in indirizzi.items()}\n",
    "\n",
    "    # Ordiniamo gli indirizzi in base alla differenza di valore (dal più piccolo al più grande)\n",
    "    indirizzi_ordinati = sorted(differenze.items(), key=lambda x: x[1])\n",
    "\n",
    "    # Ricostruiamo il dizionario ordinato\n",
    "    dizionario_ordinato = {primo_elemento: valore_primo}\n",
    "    for elemento in indirizzi_ordinati:\n",
    "        if elemento[0] != primo_elemento:  # Evitiamo di reinserire il primo elemento\n",
    "            dizionario_ordinato[elemento[0]] = indirizzi[elemento[0]]\n",
    "    return dizionario_ordinato\n",
    "\n",
    "def GetLocation(lista_indirizzi:list):\n",
    "    coordinate = []\n",
    "    location_ref = geolocator.geocode(lista_indirizzi[0])\n",
    "    longitude_ref = abs(location_ref.longitude)\n",
    "    latitude_ref = abs(location_ref.latitude)\n",
    "    for indirizzo in lista_indirizzi:\n",
    "        location_casa = geolocator.geocode(indirizzo)\n",
    "        coordinate.append(\n",
    "            (abs(abs(location_casa.latitude)-latitude_ref)) + (abs(abs(location_casa.longitude)-longitude_ref)))\n",
    "    return coordinate\n",
    "\n",
    "def GetLocation2(lista_indirizzi:list):\n",
    "    coordinate = []\n",
    "    location_ref = geolocator.geocode(lista_indirizzi[0])\n",
    "    longitude_ref = abs(location_ref.latitude)\n",
    "    latitude_ref = abs(location_ref.longitude)\n",
    "    for indirizzo in lista_indirizzi:\n",
    "        location_casa = geolocator.geocode(indirizzo)\n",
    "        coordinate.append(location_casa)\n",
    "    return coordinate\n"
   ],
   "metadata": {
    "collapsed": false,
    "ExecuteTime": {
     "end_time": "2024-04-16T13:53:27.687169200Z",
     "start_time": "2024-04-16T13:53:27.638582200Z"
    }
   }
  },
  {
   "cell_type": "code",
   "execution_count": 110,
   "outputs": [],
   "source": [
    "geolocator = Photon(user_agent=\"measurements\")\n",
    "\n",
    "lista_coordinate = GetLocation(lista_indirizzi)\n",
    "\n",
    "indirizzi_non_ordinati = dict(zip(lista_indirizzi,lista_coordinate))\n",
    "\n",
    "indirizzi_ordinati = ordinaindirizzi(indirizzi_non_ordinati)\n"
   ],
   "metadata": {
    "collapsed": false,
    "ExecuteTime": {
     "end_time": "2024-04-16T13:53:31.518826200Z",
     "start_time": "2024-04-16T13:53:28.228141600Z"
    }
   }
  },
  {
   "cell_type": "code",
   "execution_count": 111,
   "outputs": [
    {
     "data": {
      "text/plain": "{'11 confalonieri, Desio, Italia': 0.0,\n '13 segantini, Cantu, Italia': 0.09379031582975372,\n 'Piazza San Marco, 30124 Venezia VE, Italia': 3.383842478669049,\n 'Piazza del Colosseo, 00184 Roma RM, Italia': 7.082418387765749,\n 'Piazza del Duomo, 20121 Milano MI, Italia': 0.26069671582975396,\n 'Via Condotti, 00187 Roma RM, Italia': 6.477524584170247,\n 'Via Montenapoleone, 20121 Milano MI, Italia': 0.24643911582976052,\n 'Via della Conciliazione, 00120 Città del Vaticano': 7.026091695776575,\n 'Corso Vittorio Emanuele II, 20122 Milano MI, Italia': 0.25095221582975924,\n 'Piazza San Carlo, 10121 Torino TO, Italia': 2.167855115829755}"
     },
     "execution_count": 111,
     "metadata": {},
     "output_type": "execute_result"
    }
   ],
   "source": [
    "indirizzi_non_ordinati"
   ],
   "metadata": {
    "collapsed": false,
    "ExecuteTime": {
     "end_time": "2024-04-16T13:53:31.604517400Z",
     "start_time": "2024-04-16T13:53:31.525877700Z"
    }
   }
  },
  {
   "cell_type": "code",
   "execution_count": 112,
   "outputs": [
    {
     "data": {
      "text/plain": "{'11 confalonieri, Desio, Italia': 0.0,\n '13 segantini, Cantu, Italia': 0.09379031582975372,\n 'Via Montenapoleone, 20121 Milano MI, Italia': 0.24643911582976052,\n 'Corso Vittorio Emanuele II, 20122 Milano MI, Italia': 0.25095221582975924,\n 'Piazza del Duomo, 20121 Milano MI, Italia': 0.26069671582975396,\n 'Piazza San Carlo, 10121 Torino TO, Italia': 2.167855115829755,\n 'Piazza San Marco, 30124 Venezia VE, Italia': 3.383842478669049,\n 'Via Condotti, 00187 Roma RM, Italia': 6.477524584170247,\n 'Via della Conciliazione, 00120 Città del Vaticano': 7.026091695776575,\n 'Piazza del Colosseo, 00184 Roma RM, Italia': 7.082418387765749}"
     },
     "execution_count": 112,
     "metadata": {},
     "output_type": "execute_result"
    }
   ],
   "source": [
    "indirizzi_ordinati"
   ],
   "metadata": {
    "collapsed": false,
    "ExecuteTime": {
     "end_time": "2024-04-16T13:53:31.821671700Z",
     "start_time": "2024-04-16T13:53:31.756535Z"
    }
   }
  },
  {
   "cell_type": "code",
   "execution_count": null,
   "outputs": [],
   "source": [],
   "metadata": {
    "collapsed": false
   }
  }
 ],
 "metadata": {
  "kernelspec": {
   "display_name": "Python 3",
   "language": "python",
   "name": "python3"
  },
  "language_info": {
   "codemirror_mode": {
    "name": "ipython",
    "version": 2
   },
   "file_extension": ".py",
   "mimetype": "text/x-python",
   "name": "python",
   "nbconvert_exporter": "python",
   "pygments_lexer": "ipython2",
   "version": "2.7.6"
  }
 },
 "nbformat": 4,
 "nbformat_minor": 0
}
