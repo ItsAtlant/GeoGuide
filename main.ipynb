{
 "cells": [
  {
   "cell_type": "code",
   "execution_count": 14,
   "outputs": [
    {
     "name": "stdout",
     "output_type": "stream",
     "text": [
      "45.6248291 9.2001808\n",
      "45.7256608 9.1522778\n",
      "45.4582373 9.1530112\n"
     ]
    }
   ],
   "source": [
    "from geopy.geocoders import Nominatim\n",
    "geolocator = Nominatim(user_agent=\"geoapiExercises\")\n",
    "location_casa = geolocator.geocode(\"11 confalonieri, Desio, Italy\")\n",
    "location_cantu = geolocator.geocode(\"13 segantini, Cantu, Italy\")\n",
    "location_seregno = geolocator.geocode(\"64 garian, Milano, Italy\")\n",
    "\n",
    "print(location_casa.latitude, location_casa.longitude)\n",
    "print(location_cantu.latitude, location_cantu.longitude)\n",
    "print(location_seregno.latitude, location_seregno.longitude)\n",
    "\n",
    "spazio_totale_casa = location_casa.latitude + location_casa.longitude\n",
    "spazio_totale_cantu = location_cantu.latitude + location_cantu.longitude\n",
    "spazio_totale_seregno = location_seregno.latitude + location_seregno.longitude"
   ],
   "metadata": {
    "collapsed": false,
    "ExecuteTime": {
     "end_time": "2024-04-12T09:12:27.987189600Z",
     "start_time": "2024-04-12T09:12:26.557552700Z"
    }
   }
  },
  {
   "cell_type": "code",
   "execution_count": 13,
   "outputs": [],
   "source": [
    "from geopy.geocoders import Nominatim\n",
    "geolocator = Nominatim(user_agent=\"geoapiExercises\")\n",
    "location_casa = geolocator.geocode(\"11 confalonieri, Desio, Italy\")"
   ],
   "metadata": {
    "collapsed": false,
    "ExecuteTime": {
     "end_time": "2024-04-12T09:12:09.376172700Z",
     "start_time": "2024-04-12T09:12:09.066232300Z"
    }
   }
  },
  {
   "cell_type": "code",
   "execution_count": 15,
   "outputs": [
    {
     "name": "stdout",
     "output_type": "stream",
     "text": [
      "54.8250099 54.8779386 54.6112485\n"
     ]
    }
   ],
   "source": [
    "print(spazio_totale_casa, spazio_totale_cantu, spazio_totale_seregno)"
   ],
   "metadata": {
    "collapsed": false,
    "ExecuteTime": {
     "end_time": "2024-04-12T09:13:02.277709300Z",
     "start_time": "2024-04-12T09:13:02.272192900Z"
    }
   }
  },
  {
   "cell_type": "code",
   "execution_count": null,
   "outputs": [],
   "source": [],
   "metadata": {
    "collapsed": false
   }
  }
 ],
 "metadata": {
  "kernelspec": {
   "display_name": "Python 3",
   "language": "python",
   "name": "python3"
  },
  "language_info": {
   "codemirror_mode": {
    "name": "ipython",
    "version": 2
   },
   "file_extension": ".py",
   "mimetype": "text/x-python",
   "name": "python",
   "nbconvert_exporter": "python",
   "pygments_lexer": "ipython2",
   "version": "2.7.6"
  }
 },
 "nbformat": 4,
 "nbformat_minor": 0
}
